{
 "cells": [
  {
   "cell_type": "code",
   "execution_count": 28,
   "metadata": {},
   "outputs": [],
   "source": [
    "import torch\n",
    "import torchvision\n",
    "from torch import nn"
   ]
  },
  {
   "cell_type": "code",
   "execution_count": 31,
   "metadata": {},
   "outputs": [],
   "source": [
    "random_sample = torch.rand((1, 3, 224, 224))"
   ]
  },
  {
   "cell_type": "code",
   "execution_count": 32,
   "metadata": {},
   "outputs": [
    {
     "name": "stdout",
     "output_type": "stream",
     "text": [
      "torch.Size([1, 2])\n",
      "torch.Size([1, 2])\n",
      "torch.Size([1, 2])\n"
     ]
    }
   ],
   "source": [
    "NUM_CLASSES = 2\n",
    "for MODEL in [\"mobilenet_v3_large\", \"resnet18\", \"efficientnet_b0\"]:\n",
    "    model = torchvision.models.get_model(MODEL, weights=\"DEFAULT\")\n",
    "    if \"resnet\" in MODEL:\n",
    "        model.fc = nn.Linear(model.fc.in_features, out_features=NUM_CLASSES)\n",
    "    elif \"efficientnet\" in MODEL:\n",
    "        model.classifier = nn.Sequential(\n",
    "            nn.Dropout(p=.2, inplace=True),\n",
    "            nn.Linear(in_features=model.classifier[1].in_features, out_features=NUM_CLASSES)\n",
    "        )\n",
    "    elif \"mobilenet\" in MODEL:\n",
    "        model.classifier[3] = nn.Linear(in_features=model.classifier[3].in_features, out_features=NUM_CLASSES)\n",
    "    else:\n",
    "        assert True, \"Something went wrong.\"\n",
    "\n",
    "    print(model(random_sample).size())"
   ]
  },
  {
   "cell_type": "code",
   "execution_count": null,
   "metadata": {},
   "outputs": [],
   "source": []
  }
 ],
 "metadata": {
  "kernelspec": {
   "display_name": "venv",
   "language": "python",
   "name": "python3"
  },
  "language_info": {
   "codemirror_mode": {
    "name": "ipython",
    "version": 3
   },
   "file_extension": ".py",
   "mimetype": "text/x-python",
   "name": "python",
   "nbconvert_exporter": "python",
   "pygments_lexer": "ipython3",
   "version": "3.10.12"
  }
 },
 "nbformat": 4,
 "nbformat_minor": 2
}
