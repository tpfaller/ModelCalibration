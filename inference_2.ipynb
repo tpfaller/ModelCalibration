{
 "cells": [
  {
   "cell_type": "code",
   "execution_count": 1,
   "metadata": {},
   "outputs": [],
   "source": [
    "import torch\n",
    "from torch import nn\n",
    "import torchvision\n",
    "import presets\n",
    "import numpy as np\n",
    "import calibration_utils\n",
    "\n",
    "from torchvision.transforms.functional import InterpolationMode\n",
    "from sklearn.metrics import  confusion_matrix\n",
    "from matplotlib import pyplot as plt\n",
    "\n",
    "from Calibrator import Calibrator"
   ]
  },
  {
   "cell_type": "code",
   "execution_count": 2,
   "metadata": {},
   "outputs": [],
   "source": [
    "def load_model(\n",
    "        device: str='cpu',\n",
    "        MODEL: str='mobilenet_v3_large',\n",
    "        NUM_CLASSES: int=2,\n",
    "        PATH: str='output/model_4.pth'\n",
    "        ):\n",
    "    model = torchvision.models.get_model(MODEL, weights=None, num_classes=NUM_CLASSES)\n",
    "    state_dict = torch.load(PATH)\n",
    "    model.load_state_dict(state_dict['model'])\n",
    "    model.to(device)\n",
    "    return model, state_dict"
   ]
  },
  {
   "cell_type": "code",
   "execution_count": 3,
   "metadata": {},
   "outputs": [],
   "source": [
    "model, state_dict = load_model()\n",
    "args = state_dict[\"args\"]\n",
    "traindir, valdir = \"data/train\", \"data/val\"\n",
    "interpolation = InterpolationMode(args.interpolation)"
   ]
  },
  {
   "cell_type": "code",
   "execution_count": 4,
   "metadata": {},
   "outputs": [],
   "source": [
    "preprocessing = presets.ClassificationPresetEval(\n",
    "                crop_size=args.val_crop_size,\n",
    "                resize_size=args.val_resize_size,\n",
    "                interpolation=interpolation,\n",
    "                backend=args.backend,\n",
    "                use_v2=args.use_v2,\n",
    "            )\n",
    "\n",
    "dataset_train = torchvision.datasets.ImageFolder(\n",
    "    traindir,\n",
    "    preprocessing,\n",
    ")\n",
    "train_sampler = torch.utils.data.SequentialSampler(dataset_train)\n",
    "data_loader_train = torch.utils.data.DataLoader(\n",
    "        dataset_train, batch_size=args.batch_size, sampler=train_sampler, num_workers=args.workers, pin_memory=True\n",
    "    )\n",
    "\n",
    "dataset_val = torchvision.datasets.ImageFolder(\n",
    "    valdir,\n",
    "    preprocessing,\n",
    ")\n",
    "val_sampler = torch.utils.data.SequentialSampler(dataset_val)\n",
    "data_loader_val = torch.utils.data.DataLoader(\n",
    "        dataset_val, batch_size=args.batch_size, sampler=val_sampler, num_workers=args.workers, pin_memory=True\n",
    "    )\n",
    "\n",
    "criterion = nn.CrossEntropyLoss()\n",
    "calibrator = Calibrator()"
   ]
  },
  {
   "cell_type": "code",
   "execution_count": 5,
   "metadata": {},
   "outputs": [],
   "source": [
    "def train(model, data_loader, calibrator, device: str=\"cpu\"):\n",
    "    with torch.inference_mode():\n",
    "        for image, target in data_loader:\n",
    "            image = image.to(device, non_blocking=True)\n",
    "            target = target.to(device, non_blocking=True)\n",
    "            output = model(image)\n",
    "            calibrator.update(output, target)\n",
    "    calibrator.train_calibrator()\n",
    "            \n",
    "def eval(model, data_loader, calibrator, device: str=\"cpu\"):\n",
    "    with torch.inference_mode():\n",
    "        for image, target in data_loader:\n",
    "            image = image.to(device, non_blocking=True)\n",
    "            target = target.to(device, non_blocking=True)\n",
    "            output = model(image)\n",
    "            calibrator.update(output, target)\n",
    "    calibrator.eval_calibrator()\n"
   ]
  },
  {
   "cell_type": "code",
   "execution_count": 6,
   "metadata": {},
   "outputs": [
    {
     "name": "stdout",
     "output_type": "stream",
     "text": [
      "start train\n"
     ]
    },
    {
     "ename": "ValueError",
     "evalue": "Unknown label type: continuous. Maybe you are trying to fit a classifier, which expects discrete classes on a regression target with continuous values.",
     "output_type": "error",
     "traceback": [
      "\u001b[0;31m---------------------------------------------------------------------------\u001b[0m",
      "\u001b[0;31mValueError\u001b[0m                                Traceback (most recent call last)",
      "\u001b[1;32m/home/vboxuser/vs_projects/deepl_anw/inference_2.ipynb Cell 6\u001b[0m line \u001b[0;36m5\n\u001b[1;32m      <a href='vscode-notebook-cell:/home/vboxuser/vs_projects/deepl_anw/inference_2.ipynb#W4sZmlsZQ%3D%3D?line=2'>3</a>\u001b[0m model, _ \u001b[39m=\u001b[39m load_model(PATH\u001b[39m=\u001b[39m\u001b[39mf\u001b[39m\u001b[39m'\u001b[39m\u001b[39moutput/model_\u001b[39m\u001b[39m{\u001b[39;00mepoch\u001b[39m}\u001b[39;00m\u001b[39m.pth\u001b[39m\u001b[39m'\u001b[39m)\n\u001b[1;32m      <a href='vscode-notebook-cell:/home/vboxuser/vs_projects/deepl_anw/inference_2.ipynb#W4sZmlsZQ%3D%3D?line=3'>4</a>\u001b[0m \u001b[39mprint\u001b[39m(\u001b[39m\"\u001b[39m\u001b[39mstart train\u001b[39m\u001b[39m\"\u001b[39m)\n\u001b[0;32m----> <a href='vscode-notebook-cell:/home/vboxuser/vs_projects/deepl_anw/inference_2.ipynb#W4sZmlsZQ%3D%3D?line=4'>5</a>\u001b[0m train(model, data_loader_val, calibrator)\n\u001b[1;32m      <a href='vscode-notebook-cell:/home/vboxuser/vs_projects/deepl_anw/inference_2.ipynb#W4sZmlsZQ%3D%3D?line=5'>6</a>\u001b[0m \u001b[39mprint\u001b[39m(\u001b[39m\"\u001b[39m\u001b[39mstart eval\u001b[39m\u001b[39m\"\u001b[39m)\n\u001b[1;32m      <a href='vscode-notebook-cell:/home/vboxuser/vs_projects/deepl_anw/inference_2.ipynb#W4sZmlsZQ%3D%3D?line=6'>7</a>\u001b[0m \u001b[39meval\u001b[39m(model, data_loader_val, calibrator)\n",
      "\u001b[1;32m/home/vboxuser/vs_projects/deepl_anw/inference_2.ipynb Cell 6\u001b[0m line \u001b[0;36m8\n\u001b[1;32m      <a href='vscode-notebook-cell:/home/vboxuser/vs_projects/deepl_anw/inference_2.ipynb#W4sZmlsZQ%3D%3D?line=5'>6</a>\u001b[0m         output \u001b[39m=\u001b[39m model(image)\n\u001b[1;32m      <a href='vscode-notebook-cell:/home/vboxuser/vs_projects/deepl_anw/inference_2.ipynb#W4sZmlsZQ%3D%3D?line=6'>7</a>\u001b[0m         calibrator\u001b[39m.\u001b[39mupdate(output, target)\n\u001b[0;32m----> <a href='vscode-notebook-cell:/home/vboxuser/vs_projects/deepl_anw/inference_2.ipynb#W4sZmlsZQ%3D%3D?line=7'>8</a>\u001b[0m calibrator\u001b[39m.\u001b[39;49mtrain_calibrator()\n",
      "File \u001b[0;32m~/vs_projects/deepl_anw/Calibrator.py:69\u001b[0m, in \u001b[0;36mCalibrator.train_calibrator\u001b[0;34m(self)\u001b[0m\n\u001b[1;32m     66\u001b[0m bins, binned, bin_accs, bin_confs, bin_sizes \u001b[39m=\u001b[39m calibration_utils\u001b[39m.\u001b[39mcalc_bins(np_ground_truth, np_confidence)\n\u001b[1;32m     68\u001b[0m np_real_proba \u001b[39m=\u001b[39m compute_real_probabilities(np_ground_truth, binned, bin_accs)\n\u001b[0;32m---> 69\u001b[0m \u001b[39mreturn\u001b[39;00m \u001b[39mself\u001b[39;49m\u001b[39m.\u001b[39;49mfit_transform(np_confidence, np_real_proba)\n",
      "File \u001b[0;32m~/vs_projects/deepl_anw/Calibrator.py:45\u001b[0m, in \u001b[0;36mCalibrator.fit_transform\u001b[0;34m(self, pred_proba_train, real_proba_train)\u001b[0m\n\u001b[1;32m     44\u001b[0m \u001b[39mdef\u001b[39;00m \u001b[39mfit_transform\u001b[39m(\u001b[39mself\u001b[39m, pred_proba_train: np\u001b[39m.\u001b[39mndarray, real_proba_train: np\u001b[39m.\u001b[39mndarray) \u001b[39m-\u001b[39m\u001b[39m>\u001b[39m Dict[\u001b[39mstr\u001b[39m, np\u001b[39m.\u001b[39mndarray]:\n\u001b[0;32m---> 45\u001b[0m     \u001b[39mself\u001b[39;49m\u001b[39m.\u001b[39;49mfit(pred_proba_train, real_proba_train)\n\u001b[1;32m     46\u001b[0m     \u001b[39mreturn\u001b[39;00m \u001b[39mself\u001b[39m\u001b[39m.\u001b[39mtransform(pred_proba\u001b[39m=\u001b[39mpred_proba_train)\n",
      "File \u001b[0;32m~/vs_projects/deepl_anw/Calibrator.py:36\u001b[0m, in \u001b[0;36mCalibrator.fit\u001b[0;34m(self, pred_proba_train, real_proba_train)\u001b[0m\n\u001b[1;32m     34\u001b[0m \u001b[39mdef\u001b[39;00m \u001b[39mfit\u001b[39m(\u001b[39mself\u001b[39m, pred_proba_train: np\u001b[39m.\u001b[39mndarray, real_proba_train: np\u001b[39m.\u001b[39mndarray) \u001b[39m-\u001b[39m\u001b[39m>\u001b[39m \u001b[39mNone\u001b[39;00m:\n\u001b[1;32m     35\u001b[0m     \u001b[39mfor\u001b[39;00m calibrator \u001b[39min\u001b[39;00m \u001b[39mself\u001b[39m\u001b[39m.\u001b[39mcalibrator\u001b[39m.\u001b[39mvalues():\n\u001b[0;32m---> 36\u001b[0m         calibrator\u001b[39m.\u001b[39;49mfit(pred_proba_train\u001b[39m.\u001b[39;49mreshape(\u001b[39m-\u001b[39;49m\u001b[39m1\u001b[39;49m,\u001b[39m1\u001b[39;49m), real_proba_train)\n",
      "File \u001b[0;32m~/vs_projects/deepl_anw/venv/lib/python3.10/site-packages/sklearn/base.py:1152\u001b[0m, in \u001b[0;36m_fit_context.<locals>.decorator.<locals>.wrapper\u001b[0;34m(estimator, *args, **kwargs)\u001b[0m\n\u001b[1;32m   1145\u001b[0m     estimator\u001b[39m.\u001b[39m_validate_params()\n\u001b[1;32m   1147\u001b[0m \u001b[39mwith\u001b[39;00m config_context(\n\u001b[1;32m   1148\u001b[0m     skip_parameter_validation\u001b[39m=\u001b[39m(\n\u001b[1;32m   1149\u001b[0m         prefer_skip_nested_validation \u001b[39mor\u001b[39;00m global_skip_validation\n\u001b[1;32m   1150\u001b[0m     )\n\u001b[1;32m   1151\u001b[0m ):\n\u001b[0;32m-> 1152\u001b[0m     \u001b[39mreturn\u001b[39;00m fit_method(estimator, \u001b[39m*\u001b[39;49margs, \u001b[39m*\u001b[39;49m\u001b[39m*\u001b[39;49mkwargs)\n",
      "File \u001b[0;32m~/vs_projects/deepl_anw/venv/lib/python3.10/site-packages/sklearn/linear_model/_logistic.py:1216\u001b[0m, in \u001b[0;36mLogisticRegression.fit\u001b[0;34m(self, X, y, sample_weight)\u001b[0m\n\u001b[1;32m   1206\u001b[0m     _dtype \u001b[39m=\u001b[39m [np\u001b[39m.\u001b[39mfloat64, np\u001b[39m.\u001b[39mfloat32]\n\u001b[1;32m   1208\u001b[0m X, y \u001b[39m=\u001b[39m \u001b[39mself\u001b[39m\u001b[39m.\u001b[39m_validate_data(\n\u001b[1;32m   1209\u001b[0m     X,\n\u001b[1;32m   1210\u001b[0m     y,\n\u001b[0;32m   (...)\u001b[0m\n\u001b[1;32m   1214\u001b[0m     accept_large_sparse\u001b[39m=\u001b[39msolver \u001b[39mnot\u001b[39;00m \u001b[39min\u001b[39;00m [\u001b[39m\"\u001b[39m\u001b[39mliblinear\u001b[39m\u001b[39m\"\u001b[39m, \u001b[39m\"\u001b[39m\u001b[39msag\u001b[39m\u001b[39m\"\u001b[39m, \u001b[39m\"\u001b[39m\u001b[39msaga\u001b[39m\u001b[39m\"\u001b[39m],\n\u001b[1;32m   1215\u001b[0m )\n\u001b[0;32m-> 1216\u001b[0m check_classification_targets(y)\n\u001b[1;32m   1217\u001b[0m \u001b[39mself\u001b[39m\u001b[39m.\u001b[39mclasses_ \u001b[39m=\u001b[39m np\u001b[39m.\u001b[39munique(y)\n\u001b[1;32m   1219\u001b[0m multi_class \u001b[39m=\u001b[39m _check_multi_class(\u001b[39mself\u001b[39m\u001b[39m.\u001b[39mmulti_class, solver, \u001b[39mlen\u001b[39m(\u001b[39mself\u001b[39m\u001b[39m.\u001b[39mclasses_))\n",
      "File \u001b[0;32m~/vs_projects/deepl_anw/venv/lib/python3.10/site-packages/sklearn/utils/multiclass.py:216\u001b[0m, in \u001b[0;36mcheck_classification_targets\u001b[0;34m(y)\u001b[0m\n\u001b[1;32m    208\u001b[0m y_type \u001b[39m=\u001b[39m type_of_target(y, input_name\u001b[39m=\u001b[39m\u001b[39m\"\u001b[39m\u001b[39my\u001b[39m\u001b[39m\"\u001b[39m)\n\u001b[1;32m    209\u001b[0m \u001b[39mif\u001b[39;00m y_type \u001b[39mnot\u001b[39;00m \u001b[39min\u001b[39;00m [\n\u001b[1;32m    210\u001b[0m     \u001b[39m\"\u001b[39m\u001b[39mbinary\u001b[39m\u001b[39m\"\u001b[39m,\n\u001b[1;32m    211\u001b[0m     \u001b[39m\"\u001b[39m\u001b[39mmulticlass\u001b[39m\u001b[39m\"\u001b[39m,\n\u001b[0;32m   (...)\u001b[0m\n\u001b[1;32m    214\u001b[0m     \u001b[39m\"\u001b[39m\u001b[39mmultilabel-sequences\u001b[39m\u001b[39m\"\u001b[39m,\n\u001b[1;32m    215\u001b[0m ]:\n\u001b[0;32m--> 216\u001b[0m     \u001b[39mraise\u001b[39;00m \u001b[39mValueError\u001b[39;00m(\n\u001b[1;32m    217\u001b[0m         \u001b[39mf\u001b[39m\u001b[39m\"\u001b[39m\u001b[39mUnknown label type: \u001b[39m\u001b[39m{\u001b[39;00my_type\u001b[39m}\u001b[39;00m\u001b[39m. Maybe you are trying to fit a \u001b[39m\u001b[39m\"\u001b[39m\n\u001b[1;32m    218\u001b[0m         \u001b[39m\"\u001b[39m\u001b[39mclassifier, which expects discrete classes on a \u001b[39m\u001b[39m\"\u001b[39m\n\u001b[1;32m    219\u001b[0m         \u001b[39m\"\u001b[39m\u001b[39mregression target with continuous values.\u001b[39m\u001b[39m\"\u001b[39m\n\u001b[1;32m    220\u001b[0m     )\n",
      "\u001b[0;31mValueError\u001b[0m: Unknown label type: continuous. Maybe you are trying to fit a classifier, which expects discrete classes on a regression target with continuous values."
     ]
    }
   ],
   "source": [
    "n_epochs = 4\n",
    "for epoch in range(n_epochs):\n",
    "    model, _ = load_model(PATH=f'output/model_{epoch}.pth')\n",
    "    print(\"start train\")\n",
    "    train(model, data_loader_val, calibrator)\n",
    "    print(\"start eval\")\n",
    "    eval(model, data_loader_val, calibrator)\n",
    "    print(\"epoch end\")"
   ]
  },
  {
   "cell_type": "code",
   "execution_count": null,
   "metadata": {},
   "outputs": [],
   "source": []
  }
 ],
 "metadata": {
  "kernelspec": {
   "display_name": "venv",
   "language": "python",
   "name": "python3"
  },
  "language_info": {
   "codemirror_mode": {
    "name": "ipython",
    "version": 3
   },
   "file_extension": ".py",
   "mimetype": "text/x-python",
   "name": "python",
   "nbconvert_exporter": "python",
   "pygments_lexer": "ipython3",
   "version": "3.10.12"
  }
 },
 "nbformat": 4,
 "nbformat_minor": 2
}
